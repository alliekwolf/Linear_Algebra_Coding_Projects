{
  "nbformat": 4,
  "nbformat_minor": 0,
  "metadata": {
    "colab": {
      "name": "Practice with Gram Schmidt Process.ipynb",
      "provenance": [],
      "collapsed_sections": [],
      "authorship_tag": "ABX9TyN623PZQt86tpdYSpTrh5J4",
      "include_colab_link": true
    },
    "kernelspec": {
      "name": "python3",
      "display_name": "Python 3"
    },
    "language_info": {
      "name": "python"
    }
  },
  "cells": [
    {
      "cell_type": "markdown",
      "metadata": {
        "id": "view-in-github",
        "colab_type": "text"
      },
      "source": [
        "<a href=\"https://colab.research.google.com/github/alliekwolf/Linear_Algebra_Coding_Projects/blob/main/Practice_with_Gram_Schmidt_Process.ipynb\" target=\"_parent\"><img src=\"https://colab.research.google.com/assets/colab-badge.svg\" alt=\"Open In Colab\"/></a>"
      ]
    },
    {
      "cell_type": "code",
      "metadata": {
        "id": "7eZC5wavrMUY"
      },
      "source": [
        "# Import the numpy library...\n",
        "\n",
        "import matplotlib.pyplot as plt\n",
        "from sympy import Poly\n",
        "import sympy as sym\n",
        "import numpy as np\n",
        "from numpy import c_\n",
        "\n",
        "# We'll specify that x and t are variables:\n",
        "x, t = sym.symbols('x, t')\n",
        "\n",
        "ll = \"loaded\""
      ],
      "execution_count": null,
      "outputs": []
    },
    {
      "cell_type": "code",
      "metadata": {
        "colab": {
          "base_uri": "https://localhost:8080/"
        },
        "id": "3w5alno7sw1X",
        "outputId": "c16f7903-950a-42bb-9474-6a3665d566de"
      },
      "source": [
        "# How do I do a dot product?\n",
        "np.dot([1, 2], [3, 4])\n",
        "\n",
        "# How do I find the magnitude?\n",
        "np.sqrt(np.dot([1, 2], [1, 2]))"
      ],
      "execution_count": null,
      "outputs": [
        {
          "output_type": "execute_result",
          "data": {
            "text/plain": [
              "2.23606797749979"
            ]
          },
          "metadata": {
            "tags": []
          },
          "execution_count": 60
        }
      ]
    },
    {
      "cell_type": "code",
      "metadata": {
        "colab": {
          "base_uri": "https://localhost:8080/"
        },
        "id": "ugRjj8ovtyJK",
        "outputId": "62bb5ba9-e35f-42ef-cd2f-becf07b5b9bc"
      },
      "source": [
        "# Define the original vectors.\n",
        "\n",
        "# Example from notes\n",
        "# r1 = [2, 4, 0, 0]\n",
        "# r2 = [1, 2, 3, 6]\n",
        "# r3 = [2, -1, 2, -1]\n",
        "# r4 = [1, 2, 3, 4]\n",
        "\n",
        "# Example from homework\n",
        "r1 = [3, 0, 3, 0]\n",
        "r2 = [3, 2, 3, 3]\n",
        "r3 = [-7, -4, -5, -6]\n",
        "r4 = [-7, -3, -11, 2]\n",
        "\n",
        "# Print r1.\n",
        "r1"
      ],
      "execution_count": null,
      "outputs": [
        {
          "output_type": "execute_result",
          "data": {
            "text/plain": [
              "[3, 0, 3, 0]"
            ]
          },
          "metadata": {
            "tags": []
          },
          "execution_count": 68
        }
      ]
    },
    {
      "cell_type": "code",
      "metadata": {
        "colab": {
          "base_uri": "https://localhost:8080/"
        },
        "id": "1vKB3c9HvZ9M",
        "outputId": "e0e58a13-7df0-4327-cd57-bf3dec9d1f6d"
      },
      "source": [
        "# Find the first nice basis vector u1.\n",
        "\n",
        "# Step 1: Pick a new vector.\n",
        "r1\n",
        "\n",
        "# Step 2: Subtract the projection of r1 onto the nice basis u1, u2, u3...\n",
        "#         and save this as a temporary vector n1.\n",
        "n1 = r1\n",
        "print(n1)\n",
        "\n",
        "# Step 3: Find the magnitude of n1.\n",
        "np.sqrt(np.dot(n1, n1))\n",
        "\n",
        "# Step 4: Create the nice basis vector u1 = n1 / |n1|\n",
        "u1 = n1/np.sqrt(np.dot(n1, n1))\n",
        "\n",
        "# Print u1.\n",
        "print(u1)"
      ],
      "execution_count": null,
      "outputs": [
        {
          "output_type": "stream",
          "text": [
            "[3, 0, 3, 0]\n",
            "[0.70710678 0.         0.70710678 0.        ]\n"
          ],
          "name": "stdout"
        }
      ]
    },
    {
      "cell_type": "code",
      "metadata": {
        "colab": {
          "base_uri": "https://localhost:8080/"
        },
        "id": "gw0Q66xoxg_X",
        "outputId": "2ea5dfc7-657b-411e-f471-ffa117f0cfe7"
      },
      "source": [
        "# Check that the magnitude of u1 = 1. (|u1| = 1)\n",
        "print(np.dot(u1, u1))"
      ],
      "execution_count": null,
      "outputs": [
        {
          "output_type": "stream",
          "text": [
            "1.0000000000000002\n"
          ],
          "name": "stdout"
        }
      ]
    },
    {
      "cell_type": "code",
      "metadata": {
        "colab": {
          "base_uri": "https://localhost:8080/"
        },
        "id": "pnE_lB4Yx3KD",
        "outputId": "1558988f-bac0-432f-aa3f-9dc140ed82ef"
      },
      "source": [
        "# Find the second nice basis vector u2.\n",
        "\n",
        "# Step 1: Pick a new vector.\n",
        "r2\n",
        "\n",
        "# Step 2: Subtract the projection of r2 onto the nice basis u1, u2, u3...\n",
        "#         and save this as a temporary vector n2.\n",
        "n2 = r2 - (np.dot(r2, u1) * u1)\n",
        "print(n2)\n",
        "\n",
        "# Step 3: Find the magnitude of n2.\n",
        "np.sqrt(np.dot(n2, n2))\n",
        "\n",
        "# Step 4: Create the nice basis vector u2 = n2 / |n2|\n",
        "u2 = n2/np.sqrt(np.dot(n2, n2))\n",
        "\n",
        "# Print u2.\n",
        "print(u2)"
      ],
      "execution_count": null,
      "outputs": [
        {
          "output_type": "stream",
          "text": [
            "[-4.4408921e-16  2.0000000e+00 -4.4408921e-16  3.0000000e+00]\n",
            "[-1.23168186e-16  5.54700196e-01 -1.23168186e-16  8.32050294e-01]\n"
          ],
          "name": "stdout"
        }
      ]
    },
    {
      "cell_type": "code",
      "metadata": {
        "colab": {
          "base_uri": "https://localhost:8080/"
        },
        "id": "A1q_8wQwz_Ew",
        "outputId": "68846d64-403d-4f3c-9c0e-93dae37e9d71"
      },
      "source": [
        "# Check that u2 is orthogonal (perpendicular) to u1 (dot product = 0).\n",
        "print(np.dot(u2, u1))\n",
        "# Check that the magnitude of u2 = 1. (|u2| = 1)\n",
        "print(np.dot(u2, u2))"
      ],
      "execution_count": null,
      "outputs": [
        {
          "output_type": "stream",
          "text": [
            "-1.741861189847285e-16\n",
            "1.0\n"
          ],
          "name": "stdout"
        }
      ]
    },
    {
      "cell_type": "code",
      "metadata": {
        "colab": {
          "base_uri": "https://localhost:8080/"
        },
        "id": "Aohbeqjf0eRa",
        "outputId": "adcccf6f-bb88-4f10-b53b-9333656084f9"
      },
      "source": [
        "# Find the third nice basis vector u3.\n",
        "\n",
        "# Step 1: Pick a new vector.\n",
        "r3\n",
        "\n",
        "# Step 2: Subtract the projection of r3 onto the nice basis u1, u2, u3...\n",
        "#         and save this as a temporary vector n3.\n",
        "n3 = r3 - (np.dot(r3, u1) * u1) - (np.dot(r3, u2) * u2)\n",
        "print(n3)\n",
        "\n",
        "# Step 3: Find the magnitude of n3.\n",
        "np.sqrt(np.dot(n3, n3))\n",
        "\n",
        "# Step 4: Create the nice basis vector u3 = n3 / |n3|\n",
        "u3 = n3/np.sqrt(np.dot(n3, n3))\n",
        "\n",
        "# Print u3.\n",
        "print(u3)"
      ],
      "execution_count": null,
      "outputs": [
        {
          "output_type": "stream",
          "text": [
            "[-1.0000000e+00 -4.4408921e-16  1.0000000e+00 -8.8817842e-16]\n",
            "[-7.07106781e-01 -3.14018492e-16  7.07106781e-01 -6.28036983e-16]\n"
          ],
          "name": "stdout"
        }
      ]
    },
    {
      "cell_type": "code",
      "metadata": {
        "colab": {
          "base_uri": "https://localhost:8080/"
        },
        "id": "3LxdRBU02WNA",
        "outputId": "b99573a9-f661-46cf-a335-173dddbc01d8"
      },
      "source": [
        "# Check that u3 is orthogonal (perpendicular) to u1 and u2 (dot product = 0)\n",
        "print(np.dot(u3, u1))\n",
        "print(np.dot(u3, u2))\n",
        "# Check that the magnitude of u3 = 1. (|u3| = 1)\n",
        "print(np.dot(u3, u3))"
      ],
      "execution_count": null,
      "outputs": [
        {
          "output_type": "stream",
          "text": [
            "0.894427190999916\n",
            "-0.4385290096535148\n",
            "1.0\n"
          ],
          "name": "stdout"
        }
      ]
    },
    {
      "cell_type": "code",
      "metadata": {
        "colab": {
          "base_uri": "https://localhost:8080/"
        },
        "id": "ycvpWKaN4i8Z",
        "outputId": "1135c910-edc1-4c61-c2b8-3800b11a9bc9"
      },
      "source": [
        "# Find the fourth nice basis vector u4.\n",
        "\n",
        "# Step 1: Pick a new vector.\n",
        "r4\n",
        "\n",
        "# Step 2: Subtract the projection of r3 onto the nice basis u1, u2, u3...\n",
        "#         and save this as a temporary vector n3.\n",
        "n4 = r4 - (np.dot(r4, u1) * u1) - (np.dot(r4, u2) * u2) - (np.dot(r4, u3) * u3)\n",
        "print(n4)\n",
        "\n",
        "# Step 3: Find the magnitude of n3.\n",
        "np.sqrt(np.dot(n4, n4))\n",
        "\n",
        "# Step 4: Create the nice basis vector u3 = n3 / |n3|\n",
        "u4 = n4/np.sqrt(np.dot(n4, n4))\n",
        "\n",
        "# Print u3.\n",
        "print(u4)"
      ],
      "execution_count": null,
      "outputs": [
        {
          "output_type": "stream",
          "text": [
            "[-4.4408921e-16 -3.0000000e+00  4.4408921e-16  2.0000000e+00]\n",
            "[-1.23168186e-16 -8.32050294e-01  1.23168186e-16  5.54700196e-01]\n"
          ],
          "name": "stdout"
        }
      ]
    },
    {
      "cell_type": "code",
      "metadata": {
        "colab": {
          "base_uri": "https://localhost:8080/"
        },
        "id": "kcISFHgB5zX5",
        "outputId": "941e502d-4e45-40ab-dca1-697eff0e9697"
      },
      "source": [
        "# Check that u4 is orthogonal (perpendicular) to u1, u2, and u3. (dot product = 0)\n",
        "print(np.dot(u4, u1))\n",
        "print(np.dot(u4, u2))\n",
        "print(np.dot(u4, u3))\n",
        "# Check that the magnitude of u4 is 1. (|u4| = 1)\n",
        "print(np.dot(u4, u4))"
      ],
      "execution_count": null,
      "outputs": [
        {
          "output_type": "stream",
          "text": [
            "4.3370130851795835e-33\n",
            "-1.203390859898517e-15\n",
            "8.709305949236507e-17\n",
            "1.0000000000000002\n"
          ],
          "name": "stdout"
        }
      ]
    }
  ]
}